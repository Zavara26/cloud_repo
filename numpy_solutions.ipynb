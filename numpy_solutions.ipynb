print ('hi')

Импорт библиотеки NumPy

import numpy as np


массив из 10 нулей

array=np.zeros(10)
print('10 null')
print(array)

массив из 10 единиц

array=np.ones(10)
print('10 units')
print(array)

массив из 10 пятерок

array=np.ones(10)*5
print('10 fives')
print(array)

массив из целых чисел от 10 до 50

array=np.arange(10,51)
print('from 10 to 50')
print(array)

массив из четных чисел от 10 до 50

array=np.arange(10,51,2)
print('from 10 to 50')
print(array)

матрица 3х3 с числами от 0 до 8

mat= np.arange(0,9).reshape (3,3)
print (mat)

единичная матрица 3x3

mat = np.eye(3)
print (mat)

Генерация случайного числа от 0 до 1

rand = np.random.rand(1)
print("from 0 to 1")
print(rand)

Генерация массива из 25 случайных чисел,взятых из стандартного нормального распределения

rand = np.random.rand(25)
print("25 random numbers")
print(rand)

Создать матрицу используя функции библиотеки NumPy

mat= np.arange (0.01, 1.01, 0.01).reshape (10,10)
print (mat)

Cтартовая матрица

mat = np.arange(1,26).reshape(5,5)
print(mat)


Код который вернет матрицу из стартовой

print ('array = ', mat [2:,1:])

Код обращения к элементу который вернет значение  20 

twenty = mat [mat==20]
print(twenty)

Вывод 2,7,12

print ('array=', mat [0:3,1].reshape(3,1))

Вывод 21,22,23,24,25

print ('array=', mat [4:])

Вывод 3 и 4 строки

print ('array=', mat [3:])

Сумма всех значений в стартовой матрице mat

print(mat.sum())

Cтандартное отклонение в стартовой матрице mat

print(mat.std())

Сумма значений в колонках в стартовой матрице mat

print(mat.sum(axis=0))
