{
  "nbformat": 4,
  "nbformat_minor": 0,
  "metadata": {
    "colab": {
      "provenance": []
    },
    "kernelspec": {
      "name": "python3",
      "display_name": "Python 3"
    },
    "language_info": {
      "name": "python"
    }
  },
  "cells": [
    {
      "cell_type": "code",
      "execution_count": null,
      "metadata": {
        "colab": {
          "base_uri": "https://localhost:8080/"
        },
        "id": "U4ibRnerGS8x",
        "outputId": "b968e2b9-7b94-481a-ec93-3e7af2a26b3e"
      },
      "outputs": [
        {
          "output_type": "stream",
          "name": "stdout",
          "text": [
            "hi\n"
          ]
        }
      ],
      "source": [
        "print ('hi')"
      ]
    },
    {
      "cell_type": "markdown",
      "source": [
        "Импорт библиотеки NumPy"
      ],
      "metadata": {
        "id": "ATUg-CeqGrXb"
      }
    },
    {
      "cell_type": "code",
      "source": [
        "import numpy as np\n"
      ],
      "metadata": {
        "id": "6T5aBILqGvdF"
      },
      "execution_count": 1,
      "outputs": []
    },
    {
      "cell_type": "markdown",
      "source": [
        "массив из 10 нулей"
      ],
      "metadata": {
        "id": "ONU2cNDwHQO3"
      }
    },
    {
      "cell_type": "code",
      "source": [
        "array=np.zeros(10)\n",
        "print('10 null')\n",
        "print(array)"
      ],
      "metadata": {
        "colab": {
          "base_uri": "https://localhost:8080/"
        },
        "id": "gPmzu4HcHoVL",
        "outputId": "d0b78e9f-2862-4960-e78e-77714d1f050f"
      },
      "execution_count": 2,
      "outputs": [
        {
          "output_type": "stream",
          "name": "stdout",
          "text": [
            "10 null\n",
            "[0. 0. 0. 0. 0. 0. 0. 0. 0. 0.]\n"
          ]
        }
      ]
    },
    {
      "cell_type": "markdown",
      "source": [
        "массив из 10 единиц"
      ],
      "metadata": {
        "id": "fWG2Ky2NIGKJ"
      }
    },
    {
      "cell_type": "code",
      "source": [
        "array=np.ones(10)\n",
        "print('10 units')\n",
        "print(array)"
      ],
      "metadata": {
        "colab": {
          "base_uri": "https://localhost:8080/"
        },
        "id": "Q8OwEJQPIIKq",
        "outputId": "51807137-4659-4601-db8c-909886b333d7"
      },
      "execution_count": 3,
      "outputs": [
        {
          "output_type": "stream",
          "name": "stdout",
          "text": [
            "10 units\n",
            "[1. 1. 1. 1. 1. 1. 1. 1. 1. 1.]\n"
          ]
        }
      ]
    },
    {
      "cell_type": "markdown",
      "source": [
        "массив из 10 пятерок"
      ],
      "metadata": {
        "id": "0ZfuRzJrIVkq"
      }
    },
    {
      "cell_type": "code",
      "source": [
        "array=np.ones(10)*5\n",
        "print('10 fives')\n",
        "print(array)"
      ],
      "metadata": {
        "colab": {
          "base_uri": "https://localhost:8080/"
        },
        "id": "eXi3OeIRIZ_W",
        "outputId": "cb33c12d-70fe-4bdd-a992-d5262cf699ad"
      },
      "execution_count": 4,
      "outputs": [
        {
          "output_type": "stream",
          "name": "stdout",
          "text": [
            "10 fives\n",
            "[5. 5. 5. 5. 5. 5. 5. 5. 5. 5.]\n"
          ]
        }
      ]
    },
    {
      "cell_type": "markdown",
      "source": [
        "массив из целых чисел от 10 до 50"
      ],
      "metadata": {
        "id": "PI6bUB72IrsX"
      }
    },
    {
      "cell_type": "code",
      "source": [
        "array=np.arange(10,51)\n",
        "print('from 10 to 50')\n",
        "print(array)"
      ],
      "metadata": {
        "colab": {
          "base_uri": "https://localhost:8080/"
        },
        "id": "3kPmQ9YlIwVm",
        "outputId": "a75fea1b-312b-47b5-a353-3cb0184d1a74"
      },
      "execution_count": 5,
      "outputs": [
        {
          "output_type": "stream",
          "name": "stdout",
          "text": [
            "from 10 to 50\n",
            "[10 11 12 13 14 15 16 17 18 19 20 21 22 23 24 25 26 27 28 29 30 31 32 33\n",
            " 34 35 36 37 38 39 40 41 42 43 44 45 46 47 48 49 50]\n"
          ]
        }
      ]
    },
    {
      "cell_type": "markdown",
      "source": [
        "массив из четных чисел от 10 до 50"
      ],
      "metadata": {
        "id": "YMHEP6uAJDbd"
      }
    },
    {
      "cell_type": "code",
      "source": [
        "array=np.arange(10,51,2)\n",
        "print('from 10 to 50')\n",
        "print(array)"
      ],
      "metadata": {
        "colab": {
          "base_uri": "https://localhost:8080/"
        },
        "id": "0OF4ad3xJHZX",
        "outputId": "2bea7cb8-f0c6-4334-ea59-cf85c8d56a19"
      },
      "execution_count": 6,
      "outputs": [
        {
          "output_type": "stream",
          "name": "stdout",
          "text": [
            "from 10 to 50\n",
            "[10 12 14 16 18 20 22 24 26 28 30 32 34 36 38 40 42 44 46 48 50]\n"
          ]
        }
      ]
    },
    {
      "cell_type": "markdown",
      "source": [
        "матрица 3х3 с числами от 0 до 8"
      ],
      "metadata": {
        "id": "3iFMHV_fJ31R"
      }
    },
    {
      "cell_type": "code",
      "source": [
        "mat= np.arange(0,9).reshape (3,3)\n",
        "print (mat)"
      ],
      "metadata": {
        "colab": {
          "base_uri": "https://localhost:8080/"
        },
        "id": "4EjJBuJTJ9zO",
        "outputId": "acb864e7-5a55-4e42-b64d-552f4da29fc6"
      },
      "execution_count": 7,
      "outputs": [
        {
          "output_type": "stream",
          "name": "stdout",
          "text": [
            "[[0 1 2]\n",
            " [3 4 5]\n",
            " [6 7 8]]\n"
          ]
        }
      ]
    },
    {
      "cell_type": "markdown",
      "source": [
        "единичная матрица 3x3"
      ],
      "metadata": {
        "id": "eMLZy0A8Kmmz"
      }
    },
    {
      "cell_type": "code",
      "source": [
        "mat = np.eye(3)\n",
        "print (mat)"
      ],
      "metadata": {
        "colab": {
          "base_uri": "https://localhost:8080/"
        },
        "id": "Lb54gzt_KyQb",
        "outputId": "9d80ee37-d3a3-4258-c049-7ccb712d12d2"
      },
      "execution_count": 8,
      "outputs": [
        {
          "output_type": "stream",
          "name": "stdout",
          "text": [
            "[[1. 0. 0.]\n",
            " [0. 1. 0.]\n",
            " [0. 0. 1.]]\n"
          ]
        }
      ]
    },
    {
      "cell_type": "markdown",
      "source": [
        "Генерация случайного числа от 0 до 1"
      ],
      "metadata": {
        "id": "RAtwfV36LYAX"
      }
    },
    {
      "cell_type": "code",
      "source": [
        "rand = np.random.rand(1)\n",
        "print(\"from 0 to 1\")\n",
        "print(rand)"
      ],
      "metadata": {
        "id": "6wAUVdQlTrEz",
        "colab": {
          "base_uri": "https://localhost:8080/"
        },
        "outputId": "e7a1a107-e203-4fe6-a0d2-ba83607df6d1"
      },
      "execution_count": 9,
      "outputs": [
        {
          "output_type": "stream",
          "name": "stdout",
          "text": [
            "from 0 to 1\n",
            "[0.01659607]\n"
          ]
        }
      ]
    },
    {
      "cell_type": "markdown",
      "source": [
        "Генерация массива из 25 случайных чисел,взятых из стандартного нормального распределения"
      ],
      "metadata": {
        "id": "uQ9GzAxWMSkq"
      }
    },
    {
      "cell_type": "code",
      "source": [
        "rand = np.random.rand(25)\n",
        "print(\"25 random numbers\")\n",
        "print(rand)"
      ],
      "metadata": {
        "colab": {
          "base_uri": "https://localhost:8080/"
        },
        "id": "SvvUxzuaMXZj",
        "outputId": "0ed16b81-c76f-4706-d917-9948602ba851"
      },
      "execution_count": 10,
      "outputs": [
        {
          "output_type": "stream",
          "name": "stdout",
          "text": [
            "25 random numbers\n",
            "[0.58383861 0.96015507 0.94837336 0.35750823 0.16807421 0.11295067\n",
            " 0.00283208 0.75729861 0.13533002 0.51383078 0.74217642 0.07379693\n",
            " 0.42513009 0.94171187 0.09234858 0.96781241 0.33413569 0.27282721\n",
            " 0.97831479 0.18929627 0.1172818  0.33973866 0.05291587 0.71125025\n",
            " 0.62355934]\n"
          ]
        }
      ]
    },
    {
      "cell_type": "markdown",
      "source": [
        "Создать матрицу используя функции библиотеки NumPy"
      ],
      "metadata": {
        "id": "y2cYJQ4YM9W9"
      }
    },
    {
      "cell_type": "code",
      "source": [
        "mat= np.arange (0.01, 1.01, 0.01).reshape (10,10)\n",
        "print (mat)"
      ],
      "metadata": {
        "colab": {
          "base_uri": "https://localhost:8080/"
        },
        "id": "I78CumI4NEiN",
        "outputId": "39b972a5-5aed-4003-8657-b8334fff0ab0"
      },
      "execution_count": 11,
      "outputs": [
        {
          "output_type": "stream",
          "name": "stdout",
          "text": [
            "[[0.01 0.02 0.03 0.04 0.05 0.06 0.07 0.08 0.09 0.1 ]\n",
            " [0.11 0.12 0.13 0.14 0.15 0.16 0.17 0.18 0.19 0.2 ]\n",
            " [0.21 0.22 0.23 0.24 0.25 0.26 0.27 0.28 0.29 0.3 ]\n",
            " [0.31 0.32 0.33 0.34 0.35 0.36 0.37 0.38 0.39 0.4 ]\n",
            " [0.41 0.42 0.43 0.44 0.45 0.46 0.47 0.48 0.49 0.5 ]\n",
            " [0.51 0.52 0.53 0.54 0.55 0.56 0.57 0.58 0.59 0.6 ]\n",
            " [0.61 0.62 0.63 0.64 0.65 0.66 0.67 0.68 0.69 0.7 ]\n",
            " [0.71 0.72 0.73 0.74 0.75 0.76 0.77 0.78 0.79 0.8 ]\n",
            " [0.81 0.82 0.83 0.84 0.85 0.86 0.87 0.88 0.89 0.9 ]\n",
            " [0.91 0.92 0.93 0.94 0.95 0.96 0.97 0.98 0.99 1.  ]]\n"
          ]
        }
      ]
    },
    {
      "cell_type": "markdown",
      "source": [
        "Cтартовая матрица"
      ],
      "metadata": {
        "id": "DsND7p8XN-da"
      }
    },
    {
      "cell_type": "code",
      "source": [
        "mat = np.arange(1,26).reshape(5,5)\n",
        "print(mat)\n"
      ],
      "metadata": {
        "colab": {
          "base_uri": "https://localhost:8080/"
        },
        "id": "XbmizGhdNr8U",
        "outputId": "bec9b571-99b2-4189-b5c1-8d3e2d9746d9"
      },
      "execution_count": 12,
      "outputs": [
        {
          "output_type": "stream",
          "name": "stdout",
          "text": [
            "[[ 1  2  3  4  5]\n",
            " [ 6  7  8  9 10]\n",
            " [11 12 13 14 15]\n",
            " [16 17 18 19 20]\n",
            " [21 22 23 24 25]]\n"
          ]
        }
      ]
    },
    {
      "cell_type": "markdown",
      "source": [
        "Код который вернет матрицу из стартовой"
      ],
      "metadata": {
        "id": "ZOHOjPg0N7pA"
      }
    },
    {
      "cell_type": "code",
      "source": [
        "print ('array = ', mat [2:,1:])"
      ],
      "metadata": {
        "colab": {
          "base_uri": "https://localhost:8080/"
        },
        "id": "ILPubWeVOJE_",
        "outputId": "642566ab-96f1-4218-d440-26dd42961375"
      },
      "execution_count": 13,
      "outputs": [
        {
          "output_type": "stream",
          "name": "stdout",
          "text": [
            "array =  [[12 13 14 15]\n",
            " [17 18 19 20]\n",
            " [22 23 24 25]]\n"
          ]
        }
      ]
    },
    {
      "cell_type": "markdown",
      "source": [
        "Код обращения к элементу который вернет значение  20 "
      ],
      "metadata": {
        "id": "FNZ7DxEEOw5O"
      }
    },
    {
      "cell_type": "code",
      "source": [
        "twenty = mat [mat==20]\n",
        "print(twenty)"
      ],
      "metadata": {
        "colab": {
          "base_uri": "https://localhost:8080/"
        },
        "id": "jCk4OwhFO4U_",
        "outputId": "57f96806-4a9a-4b2b-b6b7-6ec757214f95"
      },
      "execution_count": 14,
      "outputs": [
        {
          "output_type": "stream",
          "name": "stdout",
          "text": [
            "[20]\n"
          ]
        }
      ]
    },
    {
      "cell_type": "markdown",
      "source": [
        "Вывод 2,7,12"
      ],
      "metadata": {
        "id": "cHID2nHzPzX3"
      }
    },
    {
      "cell_type": "code",
      "source": [
        "print ('array=', mat [0:3,1].reshape(3,1))"
      ],
      "metadata": {
        "colab": {
          "base_uri": "https://localhost:8080/"
        },
        "id": "1gPDDnTGP4uo",
        "outputId": "09b1fef7-35ff-4bb8-a723-2bc4ba3686e5"
      },
      "execution_count": 15,
      "outputs": [
        {
          "output_type": "stream",
          "name": "stdout",
          "text": [
            "array= [[ 2]\n",
            " [ 7]\n",
            " [12]]\n"
          ]
        }
      ]
    },
    {
      "cell_type": "markdown",
      "source": [
        "Вывод 21,22,23,24,25"
      ],
      "metadata": {
        "id": "_iYqc2seQVON"
      }
    },
    {
      "cell_type": "code",
      "source": [
        "print ('array=', mat [4:])"
      ],
      "metadata": {
        "colab": {
          "base_uri": "https://localhost:8080/"
        },
        "id": "aC7YTxBnQcpU",
        "outputId": "17959a40-78d6-4f08-e5fe-1ce43317df42"
      },
      "execution_count": 16,
      "outputs": [
        {
          "output_type": "stream",
          "name": "stdout",
          "text": [
            "array= [[21 22 23 24 25]]\n"
          ]
        }
      ]
    },
    {
      "cell_type": "markdown",
      "source": [
        "Вывод 3 и 4 строки"
      ],
      "metadata": {
        "id": "GvNi6RN3SIBP"
      }
    },
    {
      "cell_type": "code",
      "source": [
        "print ('array=', mat [3:])"
      ],
      "metadata": {
        "colab": {
          "base_uri": "https://localhost:8080/"
        },
        "id": "fQHhcmPtSNWQ",
        "outputId": "2029b89d-34a1-469e-d2b2-481a63c46c90"
      },
      "execution_count": 17,
      "outputs": [
        {
          "output_type": "stream",
          "name": "stdout",
          "text": [
            "array= [[16 17 18 19 20]\n",
            " [21 22 23 24 25]]\n"
          ]
        }
      ]
    },
    {
      "cell_type": "markdown",
      "source": [
        "Сумма всех значений в стартовой матрице mat"
      ],
      "metadata": {
        "id": "TI99yNisS9u-"
      }
    },
    {
      "cell_type": "code",
      "source": [
        "print(mat.sum())"
      ],
      "metadata": {
        "colab": {
          "base_uri": "https://localhost:8080/"
        },
        "id": "JS4gk9EpTBGE",
        "outputId": "0df3d1cb-e454-482d-84a1-d3dcb37e2645"
      },
      "execution_count": 18,
      "outputs": [
        {
          "output_type": "stream",
          "name": "stdout",
          "text": [
            "325\n"
          ]
        }
      ]
    },
    {
      "cell_type": "markdown",
      "source": [
        "Cтандартное отклонение в стартовой матрице mat"
      ],
      "metadata": {
        "id": "LCYVDMcmTSXh"
      }
    },
    {
      "cell_type": "code",
      "source": [
        "print(mat.std())"
      ],
      "metadata": {
        "colab": {
          "base_uri": "https://localhost:8080/"
        },
        "id": "3c_k3XICTVVv",
        "outputId": "8cb7bb25-1cbf-4693-8a11-51e705ed4135"
      },
      "execution_count": 19,
      "outputs": [
        {
          "output_type": "stream",
          "name": "stdout",
          "text": [
            "7.211102550927978\n"
          ]
        }
      ]
    },
    {
      "cell_type": "markdown",
      "source": [
        "Сумма значений в колонках в стартовой матрице mat"
      ],
      "metadata": {
        "id": "GFuHEoCKTkj8"
      }
    },
    {
      "cell_type": "code",
      "source": [
        "print(mat.sum(axis=0))"
      ],
      "metadata": {
        "colab": {
          "base_uri": "https://localhost:8080/"
        },
        "id": "Z_-loea6TsWz",
        "outputId": "c4a4f328-7624-4ec2-af9f-1b02be7d7fda"
      },
      "execution_count": 20,
      "outputs": [
        {
          "output_type": "stream",
          "name": "stdout",
          "text": [
            "[55 60 65 70 75]\n"
          ]
        }
      ]
    }
  ]
}
